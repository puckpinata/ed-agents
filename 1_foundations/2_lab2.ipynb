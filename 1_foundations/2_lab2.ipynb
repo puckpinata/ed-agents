{
 "cells": [
  {
   "cell_type": "markdown",
   "metadata": {},
   "source": [
    "## Welcome to the Second Lab - Week 1, Day 3\n",
    "\n",
    "Today we will work with lots of models! This is a way to get comfortable with APIs."
   ]
  },
  {
   "cell_type": "markdown",
   "metadata": {},
   "source": [
    "<table style=\"margin: 0; text-align: left; width:100%\">\n",
    "    <tr>\n",
    "        <td style=\"width: 150px; height: 150px; vertical-align: middle;\">\n",
    "            <img src=\"../assets/stop.png\" width=\"150\" height=\"150\" style=\"display: block;\" />\n",
    "        </td>\n",
    "        <td>\n",
    "            <h2 style=\"color:#ff7800;\">Important point - please read</h2>\n",
    "            <span style=\"color:#ff7800;\">The way I collaborate with you may be different to other courses you've taken. I prefer not to type code while you watch. Rather, I execute Jupyter Labs, like this, and give you an intuition for what's going on. My suggestion is that you carefully execute this yourself, <b>after</b> watching the lecture. Add print statements to understand what's going on, and then come up with your own variations.<br/><br/>If you have time, I'd love it if you submit a PR for changes in the community_contributions folder - instructions in the resources. Also, if you have a Github account, use this to showcase your variations. Not only is this essential practice, but it demonstrates your skills to others, including perhaps future clients or employers...\n",
    "            </span>\n",
    "        </td>\n",
    "    </tr>\n",
    "</table>"
   ]
  },
  {
   "cell_type": "code",
   "execution_count": null,
   "metadata": {},
   "outputs": [],
   "source": [
    "# Start with imports - ask ChatGPT to explain any package that you don't know\n",
    "\n",
    "import os\n",
    "import json\n",
    "from dotenv import load_dotenv\n",
    "from openai import OpenAI\n",
    "#from anthropic import Anthropic\n",
    "from IPython.display import Markdown, display"
   ]
  },
  {
   "cell_type": "code",
   "execution_count": 4,
   "metadata": {},
   "outputs": [
    {
     "data": {
      "text/plain": [
       "True"
      ]
     },
     "execution_count": 4,
     "metadata": {},
     "output_type": "execute_result"
    }
   ],
   "source": [
    "# Always remember to do this!\n",
    "load_dotenv(override=True)"
   ]
  },
  {
   "cell_type": "code",
   "execution_count": 5,
   "metadata": {},
   "outputs": [
    {
     "name": "stdout",
     "output_type": "stream",
     "text": [
      "OpenAI API Key exists and begins sk-proj-\n",
      "Anthropic API Key not set (and this is optional)\n",
      "Google API Key exists and begins AI\n",
      "DeepSeek API Key exists and begins sk-\n",
      "Groq API Key not set (and this is optional)\n"
     ]
    }
   ],
   "source": [
    "# Print the key prefixes to help with any debugging\n",
    "\n",
    "openai_api_key = os.getenv('OPENAI_API_KEY')\n",
    "anthropic_api_key = os.getenv('ANTHROPIC_API_KEY')\n",
    "google_api_key = os.getenv('GOOGLE_API_KEY')\n",
    "deepseek_api_key = os.getenv('DEEPSEEK_API_KEY')\n",
    "groq_api_key = os.getenv('GROQ_API_KEY')\n",
    "\n",
    "if openai_api_key:\n",
    "    print(f\"OpenAI API Key exists and begins {openai_api_key[:8]}\")\n",
    "else:\n",
    "    print(\"OpenAI API Key not set\")\n",
    "    \n",
    "if anthropic_api_key:\n",
    "    print(f\"Anthropic API Key exists and begins {anthropic_api_key[:7]}\")\n",
    "else:\n",
    "    print(\"Anthropic API Key not set (and this is optional)\")\n",
    "\n",
    "if google_api_key:\n",
    "    print(f\"Google API Key exists and begins {google_api_key[:2]}\")\n",
    "else:\n",
    "    print(\"Google API Key not set (and this is optional)\")\n",
    "\n",
    "if deepseek_api_key:\n",
    "    print(f\"DeepSeek API Key exists and begins {deepseek_api_key[:3]}\")\n",
    "else:\n",
    "    print(\"DeepSeek API Key not set (and this is optional)\")\n",
    "\n",
    "if groq_api_key:\n",
    "    print(f\"Groq API Key exists and begins {groq_api_key[:4]}\")\n",
    "else:\n",
    "    print(\"Groq API Key not set (and this is optional)\")"
   ]
  },
  {
   "cell_type": "code",
   "execution_count": 6,
   "metadata": {},
   "outputs": [],
   "source": [
    "request = \"Please come up with a challenging, nuanced question that I can ask a number of LLMs to evaluate their intelligence. \"\n",
    "request += \"Answer only with the question, no explanation.\"\n",
    "messages = [{\"role\": \"user\", \"content\": request}]"
   ]
  },
  {
   "cell_type": "code",
   "execution_count": 7,
   "metadata": {},
   "outputs": [
    {
     "data": {
      "text/plain": [
       "[{'role': 'user',\n",
       "  'content': 'Please come up with a challenging, nuanced question that I can ask a number of LLMs to evaluate their intelligence. Answer only with the question, no explanation.'}]"
      ]
     },
     "execution_count": 7,
     "metadata": {},
     "output_type": "execute_result"
    }
   ],
   "source": [
    "messages"
   ]
  },
  {
   "cell_type": "code",
   "execution_count": 11,
   "metadata": {},
   "outputs": [
    {
     "name": "stdout",
     "output_type": "stream",
     "text": [
      "How would you approach resolving a moral dilemma where the culturally accepted solution conflicts with your own ethical beliefs, especially when the decision impacts a diverse group of stakeholders?\n"
     ]
    }
   ],
   "source": [
    "openai = OpenAI()\n",
    "response = openai.chat.completions.create(\n",
    "    model=\"gpt-4o\",\n",
    "    messages=messages\n",
    ")\n",
    "challengeQ = response.choices[0].message.content\n",
    "print(challengeQ)"
   ]
  },
  {
   "cell_type": "code",
   "execution_count": null,
   "metadata": {},
   "outputs": [],
   "source": [
    "openai = OpenAI()\n",
    "response = openai.chat.completions.create(\n",
    "    model=\"gpt-4o\",\n",
    "    messages=messages,\n",
    ")\n",
    "question = response.choices[0].message.content\n",
    "print(question)\n"
   ]
  },
  {
   "cell_type": "code",
   "execution_count": 12,
   "metadata": {},
   "outputs": [],
   "source": [
    "competitors = []\n",
    "compResponses = []\n",
    "messages = [{\"role\": \"user\", \"content\": challengeQ}]"
   ]
  },
  {
   "cell_type": "code",
   "execution_count": 7,
   "metadata": {},
   "outputs": [],
   "source": [
    "competitors = []\n",
    "answers = []\n",
    "messages = [{\"role\": \"user\", \"content\": question}]"
   ]
  },
  {
   "cell_type": "code",
   "execution_count": 14,
   "metadata": {},
   "outputs": [
    {
     "data": {
      "text/markdown": [
       "Resolving a moral dilemma where the culturally accepted solution conflicts with personal ethical beliefs is a complex process. Here’s a structured approach to navigate such a situation, especially when it involves diverse stakeholders:\n",
       "\n",
       "1. **Self-reflection and Clarification**: Start by thoroughly reflecting on your own ethical beliefs. Identify the core principles that guide your ethics and how they conflict with the culturally accepted solution. This step helps to ensure that your perspective is clear and well-informed.\n",
       "\n",
       "2. **Research and Understanding**: Investigate the cultural context behind the accepted solution. Understand the values, beliefs, and traditions that underpin it. This helps to broaden your perspective and may reveal nuances that you were previously unaware of.\n",
       "\n",
       "3. **Stakeholder Mapping**: Identify all stakeholders who are impacted by the decision. Consider their values, interests, and potential reactions to both the culturally accepted solution and your ethical stance. Understanding the diversity of perspectives will be important in finding a resolution that considers everyone's needs.\n",
       "\n",
       "4. **Engagement and Dialogue**: Initiate conversations with stakeholders to gather their views and concerns. This could involve facilitating discussions where different perspectives can be shared openly. Actively listen to understand their positions, which will help in finding common ground.\n",
       "\n",
       "5. **Explore Alternatives**: Brainstorm possible solutions that respect cultural norms while also aligning with your ethical beliefs. Consider creative options that may not be immediately apparent but can satisfy both ethical standards and cultural considerations. \n",
       "\n",
       "6. **Ethical Frameworks**: Apply ethical frameworks (such as utilitarianism, deontology, or virtue ethics) to evaluate the potential outcomes of each option. Weigh the consequences for all stakeholders to make a more informed decision.\n",
       "\n",
       "7. **Pilot Testing**: If feasible, consider implementing a small-scale trial of the alternative solutions to gauge their effectiveness and acceptance among stakeholders. This can provide valuable insights and help build trust.\n",
       "\n",
       "8. **Decision Making**: After thorough consideration, make a decision that aligns best with your ethical principles while attempting to respect the cultural context. Be transparent about your reasoning to help others understand your stance.\n",
       "\n",
       "9. **Communication**: Clearly communicate your decision and the rationale behind it to all stakeholders. Emphasize the thought and care taken in your approach, and be open to feedback and further discussion.\n",
       "\n",
       "10. **Reflection and Adaptation**: After the decision has been implemented, reflect on its impact and be willing to adapt based on feedback and outcomes. This ongoing process helps build trust and continually improves your approach to ethical dilemmas.\n",
       "\n",
       "By approaching the moral dilemma thoughtfully and inclusively, you can navigate the complexities of cultural differences and ethical beliefs while striving to achieve a resolution that respects and acknowledges the diverse perspectives of all affected stakeholders."
      ],
      "text/plain": [
       "<IPython.core.display.Markdown object>"
      ]
     },
     "metadata": {},
     "output_type": "display_data"
    }
   ],
   "source": [
    "# The API we know well\n",
    "\n",
    "model_name = \"gpt-4o-mini\"\n",
    "\n",
    "response = openai.chat.completions.create(model=model_name, messages=messages)\n",
    "answer = response.choices[0].message.content\n",
    "\n",
    "display(Markdown(answer))\n",
    "competitors.append(model_name)\n",
    "compResponses.append(answer)"
   ]
  },
  {
   "cell_type": "code",
   "execution_count": null,
   "metadata": {},
   "outputs": [],
   "source": [
    "# Anthropic has a slightly different API, and Max Tokens is required\n",
    "\n",
    "model_name = \"claude-3-7-sonnet-latest\"\n",
    "\n",
    "claude = Anthropic()\n",
    "response = claude.messages.create(model=model_name, messages=messages, max_tokens=1000)\n",
    "answer = response.content[0].text\n",
    "\n",
    "display(Markdown(answer))\n",
    "competitors.append(model_name)\n",
    "answers.append(answer)"
   ]
  },
  {
   "cell_type": "code",
   "execution_count": 15,
   "metadata": {},
   "outputs": [
    {
     "data": {
      "text/markdown": [
       "Resolving a moral dilemma where your personal ethical beliefs clash with culturally accepted solutions, especially when diverse stakeholders are involved, is one of the most complex challenges. It requires a multifaceted, empathetic, and principles-based approach.\n",
       "\n",
       "Here's how I would approach it:\n",
       "\n",
       "---\n",
       "\n",
       "**Phase 1: Deep Understanding & Self-Reflection**\n",
       "\n",
       "1.  **Clearly Define the Dilemma:**\n",
       "    *   **Identify the culturally accepted solution:** What exactly is it? What are its underlying assumptions, values, and historical context? Why is it considered \"right\" or necessary within that culture? (e.g., preserving tradition, maintaining social harmony, religious obligation, economic stability).\n",
       "    *   **Identify my own ethical belief:** What specific principle am I upholding? (e.g., individual autonomy, universal human rights, justice, fairness, non-maleficence, utility, equity). What are its philosophical roots?\n",
       "    *   **Pinpoint the exact conflict:** Where do these two positions diverge? Is it a difference in priority, method, or fundamental values?\n",
       "\n",
       "2.  **Understand the Cultural Context (Beyond Surface Level):**\n",
       "    *   **Empathy, not judgment:** Avoid immediately labeling the cultural solution as \"wrong.\" Seek to understand its rationale from *within* that cultural framework. What purpose does it serve for the community? What are the potential negative consequences *within that culture* if the accepted solution is not followed?\n",
       "    *   **Seek informed perspectives:** Consult cultural experts, community leaders, or trusted individuals who can explain the nuances of the cultural practice or belief. Listen deeply.\n",
       "\n",
       "3.  **Examine My Own Beliefs Critically:**\n",
       "    *   **Are they truly universal, or culturally informed themselves?** Am I projecting my own cultural biases?\n",
       "    *   **What is my level of conviction?** Is this a negotiable principle, or a fundamental, non-negotiable ethical red line for me?\n",
       "    *   **What are the potential unintended consequences** of imposing my ethical belief on a different cultural context?\n",
       "\n",
       "4.  **Identify and Map Stakeholders:**\n",
       "    *   **Who is directly impacted?** (Individuals, families, specific groups)\n",
       "    *   **Who is indirectly impacted?** (Community, broader society, future generations)\n",
       "    *   **What are their diverse perspectives, needs, and vulnerabilities?** (Considering age, gender, socio-economic status, power dynamics, minority groups within the culture). It's crucial to recognize that \"the culture\" is not monolithic; there may be dissenting voices or varying interpretations *within* it.\n",
       "\n",
       "5.  **Assess Potential Impacts (Short-term & Long-term):**\n",
       "    *   **Consequences of the cultural solution:** What harm or benefit does it create, both internally and externally?\n",
       "    *   **Consequences of my ethical solution:** What harm or benefit does it create, considering its impact on cultural integrity, social cohesion, and the specific stakeholders?\n",
       "\n",
       "---\n",
       "\n",
       "**Phase 2: Engagement, Dialogue & Exploration of Alternatives**\n",
       "\n",
       "1.  **Establish Open and Respectful Communication Channels:**\n",
       "    *   Create a safe space for dialogue where all voices can be heard without fear of judgment. This might involve formal meetings, informal conversations, or bringing in a neutral facilitator.\n",
       "    *   Emphasize shared goals or values that might exist despite the conflict (e.g., everyone wants the well-being of children, peace, prosperity, dignity, even if they disagree on the method).\n",
       "\n",
       "2.  **Active Listening and Bridge Building:**\n",
       "    *   Listen to understand, not just to respond. Validate feelings and perspectives, even if you disagree with the underlying belief or practice.\n",
       "    *   Frame the issue not as \"my way vs. your way,\" but as \"how can we achieve the best outcome for everyone involved, given our differing perspectives?\"\n",
       "\n",
       "3.  **Seek Common Ground and Shared Values:**\n",
       "    *   Can universal ethical principles (e.g., harm reduction, human dignity, fairness) be identified that resonate with *both* positions, even if the application differs?\n",
       "    *   Are there existing cultural narratives or traditions that support a more inclusive or ethically aligned approach, even if they are not the dominant interpretation?\n",
       "\n",
       "4.  **Brainstorm Creative Solutions & \"Third Ways\":**\n",
       "    *   Can a compromise be found that respects cultural values while still upholding fundamental ethical principles?\n",
       "    *   Can a phased approach be implemented?\n",
       "    *   Are there adaptive solutions that could be developed collaboratively? (e.g., not abandoning a tradition entirely, but modifying its harmful elements; providing alternatives that address the underlying need the cultural solution was meant to meet).\n",
       "    *   Is there an opportunity for mutual learning and evolving perspectives?\n",
       "\n",
       "---\n",
       "\n",
       "**Phase 3: Decision-Making & Implementation**\n",
       "\n",
       "1.  **Prioritize Core Ethical Principles:**\n",
       "    *   If no complete compromise is possible, I would lean towards solutions that:\n",
       "        *   **Minimize harm, especially to the most vulnerable.** This is often the paramount principle.\n",
       "        *   **Uphold fundamental human rights and dignity.**\n",
       "        *   **Promote justice and equity.**\n",
       "    *   This doesn't mean disregarding cultural context, but rather making a difficult choice when core values are in direct opposition to practices that cause significant suffering or injustice.\n",
       "\n",
       "2.  **Transparency and Justification:**\n",
       "    *   Clearly articulate the decision-making process, acknowledging the complexity and the conflicting values.\n",
       "    *   Explain the rationale for the chosen solution, even if it's unpopular with some stakeholders. Be prepared to defend it based on ethical principles and the well-being of all.\n",
       "\n",
       "3.  **Mitigate Negative Impacts:**\n",
       "    *   For those whose cultural practices are challenged, offer support, alternatives, or pathways for adapting.\n",
       "    *   Address any potential backlash or social disruption with sensitivity and proactive measures.\n",
       "    *   Ensure the decision is implemented in a way that is respectful and avoids further marginalization or alienation.\n",
       "\n",
       "4.  **Be Prepared for Personal and Professional Consequences:**\n",
       "    *   Upholding personal ethics against cultural norms can be isolating, professionally risky, or lead to social ostracization. I would need to be prepared for these potential repercussions.\n",
       "\n",
       "---\n",
       "\n",
       "**Phase 4: Post-Decision Reflection & Learning**\n",
       "\n",
       "1.  **Evaluate the Outcome:**\n",
       "    *   Did the chosen solution achieve its intended ethical goals?\n",
       "    *   What were the unforeseen consequences, both positive and negative?\n",
       "    *   How did the diverse stakeholders respond in the long term?\n",
       "\n",
       "2.  **Continuous Learning and Adaptation:**\n",
       "    *   Every such dilemma is a learning experience. What could have been done better?\n",
       "    *   Maintain an ongoing dialogue with the community and stakeholders, showing a commitment to long-term well-being and adaptation.\n",
       "    *   Recognize that cultural change is slow and often incremental.\n",
       "\n",
       "---\n",
       "\n",
       "In essence, my approach would be characterized by **humility, empathy, rigorous ethical analysis, inclusive dialogue, and a commitment to minimizing harm while upholding fundamental principles of justice and human dignity.** It's about finding the most ethically defensible path forward, even when that path is fraught with complexity and doesn't fully satisfy everyone."
      ],
      "text/plain": [
       "<IPython.core.display.Markdown object>"
      ]
     },
     "metadata": {},
     "output_type": "display_data"
    }
   ],
   "source": [
    "gemini = OpenAI(api_key=google_api_key, base_url=\"https://generativelanguage.googleapis.com/v1beta/openai/\")\n",
    "model_name = \"gemini-2.5-flash\"\n",
    "\n",
    "response = gemini.chat.completions.create(model=model_name, messages=messages)\n",
    "answer = response.choices[0].message.content\n",
    "\n",
    "display(Markdown(answer))\n",
    "competitors.append(model_name)\n",
    "compResponses.append(answer)"
   ]
  },
  {
   "cell_type": "code",
   "execution_count": 18,
   "metadata": {},
   "outputs": [
    {
     "data": {
      "text/markdown": [
       "Resolving a moral dilemma where cultural norms conflict with your personal ethical beliefs—especially when diverse stakeholders are involved—requires a thoughtful, balanced approach. Here’s a structured way to navigate such a situation:\n",
       "\n",
       "### **1. Clarify the Ethical Conflict**\n",
       "   - **Identify the core values in tension**: What specific cultural norm clashes with your ethical belief? (e.g., hierarchy vs. equality, tradition vs. individual rights.)\n",
       "   - **Understand the stakeholders**: Who is affected, and how do their cultural backgrounds shape their perspectives?\n",
       "\n",
       "### **2. Engage in Ethical Reflection**\n",
       "   - **Examine your own biases**: Are your ethical beliefs influenced by your upbringing, education, or unconscious assumptions? Could there be validity in the cultural perspective?\n",
       "   - **Apply ethical frameworks**: Consider multiple lenses:\n",
       "     - **Utilitarianism**: Which option produces the greatest good for the greatest number?\n",
       "     - **Deontological ethics**: Are there universal principles (e.g., human rights) that override cultural norms?\n",
       "     - **Virtue ethics**: What would a wise, compassionate, and fair person do?\n",
       "     - **Relativism vs. Universalism**: Is the cultural practice contextually valid, or does it violate fundamental ethical standards?\n",
       "\n",
       "### **3. Seek Dialogue & Cultural Understanding**\n",
       "   - **Consult with stakeholders**: Engage in respectful conversations to understand their values and reasoning. Ask questions like:\n",
       "     - *\"How does this practice benefit your community?\"*  \n",
       "     - *\"What concerns do you have about alternative approaches?\"*  \n",
       "   - **Find common ground**: Are there shared values (e.g., dignity, well-being) that can bridge the gap?\n",
       "\n",
       "### **4. Evaluate Potential Solutions**\n",
       "   - **Is there a compromise?** Can you adapt the culturally accepted solution in a way that aligns better with your ethics without causing harm?\n",
       "   - **Is dissent or non-participation an option?** Can you respectfully abstain or advocate for change without imposing your views?\n",
       "   - **Assess consequences**: What are the risks of challenging the norm (e.g., backlash, alienation) vs. upholding it (e.g., perpetuating harm)?\n",
       "\n",
       "### **5. Make a Decision & Justify It**\n",
       "   - **Choose the least harmful option**: If no perfect solution exists, prioritize minimizing harm while staying true to core ethical principles.\n",
       "   - **Be transparent**: Explain your reasoning to stakeholders, acknowledging the complexity and their perspectives.\n",
       "   - **Prepare for accountability**: Accept that some may disagree, but ensure your choice is defensible on ethical grounds.\n",
       "\n",
       "### **6. Reflect & Learn**\n",
       "   - **Afterward, evaluate the outcome**: Did the decision respect diverse viewpoints while upholding integrity? What would you do differently next time?\n",
       "   - **Adjust your approach**: Use this experience to refine how you handle future cross-cultural ethical conflicts.\n",
       "\n",
       "### **Example Scenario**\n",
       "Imagine a business practice in a certain culture involves gender-based roles that conflict with your belief in equality. Possible steps:\n",
       "   - **Engage local leaders** to understand the historical and social reasons behind the practice.\n",
       "   - **Propose incremental changes** (e.g., offering equal opportunities while respecting cultural sensitivities).\n",
       "   - **If change is impossible**, decide whether to tolerate the practice (if harm is minimal) or withdraw involvement (if it violates non-negotiable ethics).\n",
       "\n",
       "### **Key Takeaway**\n",
       "Balancing cultural respect with personal ethics requires humility, dialogue, and a willingness to navigate gray areas. The goal is not to impose your views but to find a solution that honors human dignity while acknowledging diverse perspectives."
      ],
      "text/plain": [
       "<IPython.core.display.Markdown object>"
      ]
     },
     "metadata": {},
     "output_type": "display_data"
    }
   ],
   "source": [
    "deepseek = OpenAI(api_key=deepseek_api_key, base_url=\"https://api.deepseek.com\")\n",
    "model_name = \"deepseek-chat\"\n",
    "\n",
    "response = deepseek.chat.completions.create(model=model_name, messages=messages)\n",
    "answer = response.choices[0].message.content\n",
    "\n",
    "display(Markdown(answer))\n",
    "competitors.append(model_name)\n",
    "compResponses.append(answer)"
   ]
  },
  {
   "cell_type": "code",
   "execution_count": null,
   "metadata": {},
   "outputs": [],
   "source": [
    "groq = OpenAI(api_key=groq_api_key, base_url=\"https://api.groq.com/openai/v1\")\n",
    "model_name = \"llama-3.3-70b-versatile\"\n",
    "\n",
    "response = groq.chat.completions.create(model=model_name, messages=messages)\n",
    "answer = response.choices[0].message.content\n",
    "\n",
    "display(Markdown(answer))\n",
    "competitors.append(model_name)\n",
    "answers.append(answer)\n"
   ]
  },
  {
   "cell_type": "markdown",
   "metadata": {},
   "source": [
    "## For the next cell, we will use Ollama\n",
    "\n",
    "Ollama runs a local web service that gives an OpenAI compatible endpoint,  \n",
    "and runs models locally using high performance C++ code.\n",
    "\n",
    "If you don't have Ollama, install it here by visiting https://ollama.com then pressing Download and following the instructions.\n",
    "\n",
    "After it's installed, you should be able to visit here: http://localhost:11434 and see the message \"Ollama is running\"\n",
    "\n",
    "You might need to restart Cursor (and maybe reboot). Then open a Terminal (control+\\`) and run `ollama serve`\n",
    "\n",
    "Useful Ollama commands (run these in the terminal, or with an exclamation mark in this notebook):\n",
    "\n",
    "`ollama pull <model_name>` downloads a model locally  \n",
    "`ollama ls` lists all the models you've downloaded  \n",
    "`ollama rm <model_name>` deletes the specified model from your downloads"
   ]
  },
  {
   "cell_type": "markdown",
   "metadata": {},
   "source": [
    "<table style=\"margin: 0; text-align: left; width:100%\">\n",
    "    <tr>\n",
    "        <td style=\"width: 150px; height: 150px; vertical-align: middle;\">\n",
    "            <img src=\"../assets/stop.png\" width=\"150\" height=\"150\" style=\"display: block;\" />\n",
    "        </td>\n",
    "        <td>\n",
    "            <h2 style=\"color:#ff7800;\">Super important - ignore me at your peril!</h2>\n",
    "            <span style=\"color:#ff7800;\">The model called <b>llama3.3</b> is FAR too large for home computers - it's not intended for personal computing and will consume all your resources! Stick with the nicely sized <b>llama3.2</b> or <b>llama3.2:1b</b> and if you want larger, try llama3.1 or smaller variants of Qwen, Gemma, Phi or DeepSeek. See the <A href=\"https://ollama.com/models\">the Ollama models page</a> for a full list of models and sizes.\n",
    "            </span>\n",
    "        </td>\n",
    "    </tr>\n",
    "</table>"
   ]
  },
  {
   "cell_type": "code",
   "execution_count": null,
   "metadata": {},
   "outputs": [],
   "source": [
    "!ollama pull llama3.2"
   ]
  },
  {
   "cell_type": "code",
   "execution_count": null,
   "metadata": {},
   "outputs": [],
   "source": [
    "ollama = OpenAI(base_url='http://localhost:11434/v1', api_key='ollama')\n",
    "model_name = \"llama3.2\"\n",
    "\n",
    "response = ollama.chat.completions.create(model=model_name, messages=messages)\n",
    "answer = response.choices[0].message.content\n",
    "\n",
    "display(Markdown(answer))\n",
    "competitors.append(model_name)\n",
    "answers.append(answer)"
   ]
  },
  {
   "cell_type": "code",
   "execution_count": 21,
   "metadata": {},
   "outputs": [
    {
     "name": "stdout",
     "output_type": "stream",
     "text": [
      "['gpt-4o-mini', 'gemini-2.5-flash', 'deepseek-chat']\n",
      "[\"Resolving a moral dilemma where the culturally accepted solution conflicts with personal ethical beliefs is a complex process. Here’s a structured approach to navigate such a situation, especially when it involves diverse stakeholders:\\n\\n1. **Self-reflection and Clarification**: Start by thoroughly reflecting on your own ethical beliefs. Identify the core principles that guide your ethics and how they conflict with the culturally accepted solution. This step helps to ensure that your perspective is clear and well-informed.\\n\\n2. **Research and Understanding**: Investigate the cultural context behind the accepted solution. Understand the values, beliefs, and traditions that underpin it. This helps to broaden your perspective and may reveal nuances that you were previously unaware of.\\n\\n3. **Stakeholder Mapping**: Identify all stakeholders who are impacted by the decision. Consider their values, interests, and potential reactions to both the culturally accepted solution and your ethical stance. Understanding the diversity of perspectives will be important in finding a resolution that considers everyone's needs.\\n\\n4. **Engagement and Dialogue**: Initiate conversations with stakeholders to gather their views and concerns. This could involve facilitating discussions where different perspectives can be shared openly. Actively listen to understand their positions, which will help in finding common ground.\\n\\n5. **Explore Alternatives**: Brainstorm possible solutions that respect cultural norms while also aligning with your ethical beliefs. Consider creative options that may not be immediately apparent but can satisfy both ethical standards and cultural considerations. \\n\\n6. **Ethical Frameworks**: Apply ethical frameworks (such as utilitarianism, deontology, or virtue ethics) to evaluate the potential outcomes of each option. Weigh the consequences for all stakeholders to make a more informed decision.\\n\\n7. **Pilot Testing**: If feasible, consider implementing a small-scale trial of the alternative solutions to gauge their effectiveness and acceptance among stakeholders. This can provide valuable insights and help build trust.\\n\\n8. **Decision Making**: After thorough consideration, make a decision that aligns best with your ethical principles while attempting to respect the cultural context. Be transparent about your reasoning to help others understand your stance.\\n\\n9. **Communication**: Clearly communicate your decision and the rationale behind it to all stakeholders. Emphasize the thought and care taken in your approach, and be open to feedback and further discussion.\\n\\n10. **Reflection and Adaptation**: After the decision has been implemented, reflect on its impact and be willing to adapt based on feedback and outcomes. This ongoing process helps build trust and continually improves your approach to ethical dilemmas.\\n\\nBy approaching the moral dilemma thoughtfully and inclusively, you can navigate the complexities of cultural differences and ethical beliefs while striving to achieve a resolution that respects and acknowledges the diverse perspectives of all affected stakeholders.\", 'Resolving a moral dilemma where your personal ethical beliefs clash with culturally accepted solutions, especially when diverse stakeholders are involved, is one of the most complex challenges. It requires a multifaceted, empathetic, and principles-based approach.\\n\\nHere\\'s how I would approach it:\\n\\n---\\n\\n**Phase 1: Deep Understanding & Self-Reflection**\\n\\n1.  **Clearly Define the Dilemma:**\\n    *   **Identify the culturally accepted solution:** What exactly is it? What are its underlying assumptions, values, and historical context? Why is it considered \"right\" or necessary within that culture? (e.g., preserving tradition, maintaining social harmony, religious obligation, economic stability).\\n    *   **Identify my own ethical belief:** What specific principle am I upholding? (e.g., individual autonomy, universal human rights, justice, fairness, non-maleficence, utility, equity). What are its philosophical roots?\\n    *   **Pinpoint the exact conflict:** Where do these two positions diverge? Is it a difference in priority, method, or fundamental values?\\n\\n2.  **Understand the Cultural Context (Beyond Surface Level):**\\n    *   **Empathy, not judgment:** Avoid immediately labeling the cultural solution as \"wrong.\" Seek to understand its rationale from *within* that cultural framework. What purpose does it serve for the community? What are the potential negative consequences *within that culture* if the accepted solution is not followed?\\n    *   **Seek informed perspectives:** Consult cultural experts, community leaders, or trusted individuals who can explain the nuances of the cultural practice or belief. Listen deeply.\\n\\n3.  **Examine My Own Beliefs Critically:**\\n    *   **Are they truly universal, or culturally informed themselves?** Am I projecting my own cultural biases?\\n    *   **What is my level of conviction?** Is this a negotiable principle, or a fundamental, non-negotiable ethical red line for me?\\n    *   **What are the potential unintended consequences** of imposing my ethical belief on a different cultural context?\\n\\n4.  **Identify and Map Stakeholders:**\\n    *   **Who is directly impacted?** (Individuals, families, specific groups)\\n    *   **Who is indirectly impacted?** (Community, broader society, future generations)\\n    *   **What are their diverse perspectives, needs, and vulnerabilities?** (Considering age, gender, socio-economic status, power dynamics, minority groups within the culture). It\\'s crucial to recognize that \"the culture\" is not monolithic; there may be dissenting voices or varying interpretations *within* it.\\n\\n5.  **Assess Potential Impacts (Short-term & Long-term):**\\n    *   **Consequences of the cultural solution:** What harm or benefit does it create, both internally and externally?\\n    *   **Consequences of my ethical solution:** What harm or benefit does it create, considering its impact on cultural integrity, social cohesion, and the specific stakeholders?\\n\\n---\\n\\n**Phase 2: Engagement, Dialogue & Exploration of Alternatives**\\n\\n1.  **Establish Open and Respectful Communication Channels:**\\n    *   Create a safe space for dialogue where all voices can be heard without fear of judgment. This might involve formal meetings, informal conversations, or bringing in a neutral facilitator.\\n    *   Emphasize shared goals or values that might exist despite the conflict (e.g., everyone wants the well-being of children, peace, prosperity, dignity, even if they disagree on the method).\\n\\n2.  **Active Listening and Bridge Building:**\\n    *   Listen to understand, not just to respond. Validate feelings and perspectives, even if you disagree with the underlying belief or practice.\\n    *   Frame the issue not as \"my way vs. your way,\" but as \"how can we achieve the best outcome for everyone involved, given our differing perspectives?\"\\n\\n3.  **Seek Common Ground and Shared Values:**\\n    *   Can universal ethical principles (e.g., harm reduction, human dignity, fairness) be identified that resonate with *both* positions, even if the application differs?\\n    *   Are there existing cultural narratives or traditions that support a more inclusive or ethically aligned approach, even if they are not the dominant interpretation?\\n\\n4.  **Brainstorm Creative Solutions & \"Third Ways\":**\\n    *   Can a compromise be found that respects cultural values while still upholding fundamental ethical principles?\\n    *   Can a phased approach be implemented?\\n    *   Are there adaptive solutions that could be developed collaboratively? (e.g., not abandoning a tradition entirely, but modifying its harmful elements; providing alternatives that address the underlying need the cultural solution was meant to meet).\\n    *   Is there an opportunity for mutual learning and evolving perspectives?\\n\\n---\\n\\n**Phase 3: Decision-Making & Implementation**\\n\\n1.  **Prioritize Core Ethical Principles:**\\n    *   If no complete compromise is possible, I would lean towards solutions that:\\n        *   **Minimize harm, especially to the most vulnerable.** This is often the paramount principle.\\n        *   **Uphold fundamental human rights and dignity.**\\n        *   **Promote justice and equity.**\\n    *   This doesn\\'t mean disregarding cultural context, but rather making a difficult choice when core values are in direct opposition to practices that cause significant suffering or injustice.\\n\\n2.  **Transparency and Justification:**\\n    *   Clearly articulate the decision-making process, acknowledging the complexity and the conflicting values.\\n    *   Explain the rationale for the chosen solution, even if it\\'s unpopular with some stakeholders. Be prepared to defend it based on ethical principles and the well-being of all.\\n\\n3.  **Mitigate Negative Impacts:**\\n    *   For those whose cultural practices are challenged, offer support, alternatives, or pathways for adapting.\\n    *   Address any potential backlash or social disruption with sensitivity and proactive measures.\\n    *   Ensure the decision is implemented in a way that is respectful and avoids further marginalization or alienation.\\n\\n4.  **Be Prepared for Personal and Professional Consequences:**\\n    *   Upholding personal ethics against cultural norms can be isolating, professionally risky, or lead to social ostracization. I would need to be prepared for these potential repercussions.\\n\\n---\\n\\n**Phase 4: Post-Decision Reflection & Learning**\\n\\n1.  **Evaluate the Outcome:**\\n    *   Did the chosen solution achieve its intended ethical goals?\\n    *   What were the unforeseen consequences, both positive and negative?\\n    *   How did the diverse stakeholders respond in the long term?\\n\\n2.  **Continuous Learning and Adaptation:**\\n    *   Every such dilemma is a learning experience. What could have been done better?\\n    *   Maintain an ongoing dialogue with the community and stakeholders, showing a commitment to long-term well-being and adaptation.\\n    *   Recognize that cultural change is slow and often incremental.\\n\\n---\\n\\nIn essence, my approach would be characterized by **humility, empathy, rigorous ethical analysis, inclusive dialogue, and a commitment to minimizing harm while upholding fundamental principles of justice and human dignity.** It\\'s about finding the most ethically defensible path forward, even when that path is fraught with complexity and doesn\\'t fully satisfy everyone.', 'Resolving a moral dilemma where cultural norms conflict with your personal ethical beliefs—especially when diverse stakeholders are involved—requires a thoughtful, balanced approach. Here’s a structured way to navigate such a situation:\\n\\n### **1. Clarify the Ethical Conflict**\\n   - **Identify the core values in tension**: What specific cultural norm clashes with your ethical belief? (e.g., hierarchy vs. equality, tradition vs. individual rights.)\\n   - **Understand the stakeholders**: Who is affected, and how do their cultural backgrounds shape their perspectives?\\n\\n### **2. Engage in Ethical Reflection**\\n   - **Examine your own biases**: Are your ethical beliefs influenced by your upbringing, education, or unconscious assumptions? Could there be validity in the cultural perspective?\\n   - **Apply ethical frameworks**: Consider multiple lenses:\\n     - **Utilitarianism**: Which option produces the greatest good for the greatest number?\\n     - **Deontological ethics**: Are there universal principles (e.g., human rights) that override cultural norms?\\n     - **Virtue ethics**: What would a wise, compassionate, and fair person do?\\n     - **Relativism vs. Universalism**: Is the cultural practice contextually valid, or does it violate fundamental ethical standards?\\n\\n### **3. Seek Dialogue & Cultural Understanding**\\n   - **Consult with stakeholders**: Engage in respectful conversations to understand their values and reasoning. Ask questions like:\\n     - *\"How does this practice benefit your community?\"*  \\n     - *\"What concerns do you have about alternative approaches?\"*  \\n   - **Find common ground**: Are there shared values (e.g., dignity, well-being) that can bridge the gap?\\n\\n### **4. Evaluate Potential Solutions**\\n   - **Is there a compromise?** Can you adapt the culturally accepted solution in a way that aligns better with your ethics without causing harm?\\n   - **Is dissent or non-participation an option?** Can you respectfully abstain or advocate for change without imposing your views?\\n   - **Assess consequences**: What are the risks of challenging the norm (e.g., backlash, alienation) vs. upholding it (e.g., perpetuating harm)?\\n\\n### **5. Make a Decision & Justify It**\\n   - **Choose the least harmful option**: If no perfect solution exists, prioritize minimizing harm while staying true to core ethical principles.\\n   - **Be transparent**: Explain your reasoning to stakeholders, acknowledging the complexity and their perspectives.\\n   - **Prepare for accountability**: Accept that some may disagree, but ensure your choice is defensible on ethical grounds.\\n\\n### **6. Reflect & Learn**\\n   - **Afterward, evaluate the outcome**: Did the decision respect diverse viewpoints while upholding integrity? What would you do differently next time?\\n   - **Adjust your approach**: Use this experience to refine how you handle future cross-cultural ethical conflicts.\\n\\n### **Example Scenario**\\nImagine a business practice in a certain culture involves gender-based roles that conflict with your belief in equality. Possible steps:\\n   - **Engage local leaders** to understand the historical and social reasons behind the practice.\\n   - **Propose incremental changes** (e.g., offering equal opportunities while respecting cultural sensitivities).\\n   - **If change is impossible**, decide whether to tolerate the practice (if harm is minimal) or withdraw involvement (if it violates non-negotiable ethics).\\n\\n### **Key Takeaway**\\nBalancing cultural respect with personal ethics requires humility, dialogue, and a willingness to navigate gray areas. The goal is not to impose your views but to find a solution that honors human dignity while acknowledging diverse perspectives.']\n"
     ]
    }
   ],
   "source": [
    "# So where are we?\n",
    "del competitors[0]\n",
    "\n",
    "print(competitors)\n",
    "print(compResponses)\n"
   ]
  },
  {
   "cell_type": "code",
   "execution_count": 23,
   "metadata": {},
   "outputs": [
    {
     "name": "stdout",
     "output_type": "stream",
     "text": [
      "Competitor: gpt-4o-mini\n",
      "\n",
      "Resolving a moral dilemma where the culturally accepted solution conflicts with personal ethical beliefs is a complex process. Here’s a structured approach to navigate such a situation, especially when it involves diverse stakeholders:\n",
      "\n",
      "1. **Self-reflection and Clarification**: Start by thoroughly reflecting on your own ethical beliefs. Identify the core principles that guide your ethics and how they conflict with the culturally accepted solution. This step helps to ensure that your perspective is clear and well-informed.\n",
      "\n",
      "2. **Research and Understanding**: Investigate the cultural context behind the accepted solution. Understand the values, beliefs, and traditions that underpin it. This helps to broaden your perspective and may reveal nuances that you were previously unaware of.\n",
      "\n",
      "3. **Stakeholder Mapping**: Identify all stakeholders who are impacted by the decision. Consider their values, interests, and potential reactions to both the culturally accepted solution and your ethical stance. Understanding the diversity of perspectives will be important in finding a resolution that considers everyone's needs.\n",
      "\n",
      "4. **Engagement and Dialogue**: Initiate conversations with stakeholders to gather their views and concerns. This could involve facilitating discussions where different perspectives can be shared openly. Actively listen to understand their positions, which will help in finding common ground.\n",
      "\n",
      "5. **Explore Alternatives**: Brainstorm possible solutions that respect cultural norms while also aligning with your ethical beliefs. Consider creative options that may not be immediately apparent but can satisfy both ethical standards and cultural considerations. \n",
      "\n",
      "6. **Ethical Frameworks**: Apply ethical frameworks (such as utilitarianism, deontology, or virtue ethics) to evaluate the potential outcomes of each option. Weigh the consequences for all stakeholders to make a more informed decision.\n",
      "\n",
      "7. **Pilot Testing**: If feasible, consider implementing a small-scale trial of the alternative solutions to gauge their effectiveness and acceptance among stakeholders. This can provide valuable insights and help build trust.\n",
      "\n",
      "8. **Decision Making**: After thorough consideration, make a decision that aligns best with your ethical principles while attempting to respect the cultural context. Be transparent about your reasoning to help others understand your stance.\n",
      "\n",
      "9. **Communication**: Clearly communicate your decision and the rationale behind it to all stakeholders. Emphasize the thought and care taken in your approach, and be open to feedback and further discussion.\n",
      "\n",
      "10. **Reflection and Adaptation**: After the decision has been implemented, reflect on its impact and be willing to adapt based on feedback and outcomes. This ongoing process helps build trust and continually improves your approach to ethical dilemmas.\n",
      "\n",
      "By approaching the moral dilemma thoughtfully and inclusively, you can navigate the complexities of cultural differences and ethical beliefs while striving to achieve a resolution that respects and acknowledges the diverse perspectives of all affected stakeholders.\n",
      "Competitor: gemini-2.5-flash\n",
      "\n",
      "Resolving a moral dilemma where your personal ethical beliefs clash with culturally accepted solutions, especially when diverse stakeholders are involved, is one of the most complex challenges. It requires a multifaceted, empathetic, and principles-based approach.\n",
      "\n",
      "Here's how I would approach it:\n",
      "\n",
      "---\n",
      "\n",
      "**Phase 1: Deep Understanding & Self-Reflection**\n",
      "\n",
      "1.  **Clearly Define the Dilemma:**\n",
      "    *   **Identify the culturally accepted solution:** What exactly is it? What are its underlying assumptions, values, and historical context? Why is it considered \"right\" or necessary within that culture? (e.g., preserving tradition, maintaining social harmony, religious obligation, economic stability).\n",
      "    *   **Identify my own ethical belief:** What specific principle am I upholding? (e.g., individual autonomy, universal human rights, justice, fairness, non-maleficence, utility, equity). What are its philosophical roots?\n",
      "    *   **Pinpoint the exact conflict:** Where do these two positions diverge? Is it a difference in priority, method, or fundamental values?\n",
      "\n",
      "2.  **Understand the Cultural Context (Beyond Surface Level):**\n",
      "    *   **Empathy, not judgment:** Avoid immediately labeling the cultural solution as \"wrong.\" Seek to understand its rationale from *within* that cultural framework. What purpose does it serve for the community? What are the potential negative consequences *within that culture* if the accepted solution is not followed?\n",
      "    *   **Seek informed perspectives:** Consult cultural experts, community leaders, or trusted individuals who can explain the nuances of the cultural practice or belief. Listen deeply.\n",
      "\n",
      "3.  **Examine My Own Beliefs Critically:**\n",
      "    *   **Are they truly universal, or culturally informed themselves?** Am I projecting my own cultural biases?\n",
      "    *   **What is my level of conviction?** Is this a negotiable principle, or a fundamental, non-negotiable ethical red line for me?\n",
      "    *   **What are the potential unintended consequences** of imposing my ethical belief on a different cultural context?\n",
      "\n",
      "4.  **Identify and Map Stakeholders:**\n",
      "    *   **Who is directly impacted?** (Individuals, families, specific groups)\n",
      "    *   **Who is indirectly impacted?** (Community, broader society, future generations)\n",
      "    *   **What are their diverse perspectives, needs, and vulnerabilities?** (Considering age, gender, socio-economic status, power dynamics, minority groups within the culture). It's crucial to recognize that \"the culture\" is not monolithic; there may be dissenting voices or varying interpretations *within* it.\n",
      "\n",
      "5.  **Assess Potential Impacts (Short-term & Long-term):**\n",
      "    *   **Consequences of the cultural solution:** What harm or benefit does it create, both internally and externally?\n",
      "    *   **Consequences of my ethical solution:** What harm or benefit does it create, considering its impact on cultural integrity, social cohesion, and the specific stakeholders?\n",
      "\n",
      "---\n",
      "\n",
      "**Phase 2: Engagement, Dialogue & Exploration of Alternatives**\n",
      "\n",
      "1.  **Establish Open and Respectful Communication Channels:**\n",
      "    *   Create a safe space for dialogue where all voices can be heard without fear of judgment. This might involve formal meetings, informal conversations, or bringing in a neutral facilitator.\n",
      "    *   Emphasize shared goals or values that might exist despite the conflict (e.g., everyone wants the well-being of children, peace, prosperity, dignity, even if they disagree on the method).\n",
      "\n",
      "2.  **Active Listening and Bridge Building:**\n",
      "    *   Listen to understand, not just to respond. Validate feelings and perspectives, even if you disagree with the underlying belief or practice.\n",
      "    *   Frame the issue not as \"my way vs. your way,\" but as \"how can we achieve the best outcome for everyone involved, given our differing perspectives?\"\n",
      "\n",
      "3.  **Seek Common Ground and Shared Values:**\n",
      "    *   Can universal ethical principles (e.g., harm reduction, human dignity, fairness) be identified that resonate with *both* positions, even if the application differs?\n",
      "    *   Are there existing cultural narratives or traditions that support a more inclusive or ethically aligned approach, even if they are not the dominant interpretation?\n",
      "\n",
      "4.  **Brainstorm Creative Solutions & \"Third Ways\":**\n",
      "    *   Can a compromise be found that respects cultural values while still upholding fundamental ethical principles?\n",
      "    *   Can a phased approach be implemented?\n",
      "    *   Are there adaptive solutions that could be developed collaboratively? (e.g., not abandoning a tradition entirely, but modifying its harmful elements; providing alternatives that address the underlying need the cultural solution was meant to meet).\n",
      "    *   Is there an opportunity for mutual learning and evolving perspectives?\n",
      "\n",
      "---\n",
      "\n",
      "**Phase 3: Decision-Making & Implementation**\n",
      "\n",
      "1.  **Prioritize Core Ethical Principles:**\n",
      "    *   If no complete compromise is possible, I would lean towards solutions that:\n",
      "        *   **Minimize harm, especially to the most vulnerable.** This is often the paramount principle.\n",
      "        *   **Uphold fundamental human rights and dignity.**\n",
      "        *   **Promote justice and equity.**\n",
      "    *   This doesn't mean disregarding cultural context, but rather making a difficult choice when core values are in direct opposition to practices that cause significant suffering or injustice.\n",
      "\n",
      "2.  **Transparency and Justification:**\n",
      "    *   Clearly articulate the decision-making process, acknowledging the complexity and the conflicting values.\n",
      "    *   Explain the rationale for the chosen solution, even if it's unpopular with some stakeholders. Be prepared to defend it based on ethical principles and the well-being of all.\n",
      "\n",
      "3.  **Mitigate Negative Impacts:**\n",
      "    *   For those whose cultural practices are challenged, offer support, alternatives, or pathways for adapting.\n",
      "    *   Address any potential backlash or social disruption with sensitivity and proactive measures.\n",
      "    *   Ensure the decision is implemented in a way that is respectful and avoids further marginalization or alienation.\n",
      "\n",
      "4.  **Be Prepared for Personal and Professional Consequences:**\n",
      "    *   Upholding personal ethics against cultural norms can be isolating, professionally risky, or lead to social ostracization. I would need to be prepared for these potential repercussions.\n",
      "\n",
      "---\n",
      "\n",
      "**Phase 4: Post-Decision Reflection & Learning**\n",
      "\n",
      "1.  **Evaluate the Outcome:**\n",
      "    *   Did the chosen solution achieve its intended ethical goals?\n",
      "    *   What were the unforeseen consequences, both positive and negative?\n",
      "    *   How did the diverse stakeholders respond in the long term?\n",
      "\n",
      "2.  **Continuous Learning and Adaptation:**\n",
      "    *   Every such dilemma is a learning experience. What could have been done better?\n",
      "    *   Maintain an ongoing dialogue with the community and stakeholders, showing a commitment to long-term well-being and adaptation.\n",
      "    *   Recognize that cultural change is slow and often incremental.\n",
      "\n",
      "---\n",
      "\n",
      "In essence, my approach would be characterized by **humility, empathy, rigorous ethical analysis, inclusive dialogue, and a commitment to minimizing harm while upholding fundamental principles of justice and human dignity.** It's about finding the most ethically defensible path forward, even when that path is fraught with complexity and doesn't fully satisfy everyone.\n",
      "Competitor: deepseek-chat\n",
      "\n",
      "Resolving a moral dilemma where cultural norms conflict with your personal ethical beliefs—especially when diverse stakeholders are involved—requires a thoughtful, balanced approach. Here’s a structured way to navigate such a situation:\n",
      "\n",
      "### **1. Clarify the Ethical Conflict**\n",
      "   - **Identify the core values in tension**: What specific cultural norm clashes with your ethical belief? (e.g., hierarchy vs. equality, tradition vs. individual rights.)\n",
      "   - **Understand the stakeholders**: Who is affected, and how do their cultural backgrounds shape their perspectives?\n",
      "\n",
      "### **2. Engage in Ethical Reflection**\n",
      "   - **Examine your own biases**: Are your ethical beliefs influenced by your upbringing, education, or unconscious assumptions? Could there be validity in the cultural perspective?\n",
      "   - **Apply ethical frameworks**: Consider multiple lenses:\n",
      "     - **Utilitarianism**: Which option produces the greatest good for the greatest number?\n",
      "     - **Deontological ethics**: Are there universal principles (e.g., human rights) that override cultural norms?\n",
      "     - **Virtue ethics**: What would a wise, compassionate, and fair person do?\n",
      "     - **Relativism vs. Universalism**: Is the cultural practice contextually valid, or does it violate fundamental ethical standards?\n",
      "\n",
      "### **3. Seek Dialogue & Cultural Understanding**\n",
      "   - **Consult with stakeholders**: Engage in respectful conversations to understand their values and reasoning. Ask questions like:\n",
      "     - *\"How does this practice benefit your community?\"*  \n",
      "     - *\"What concerns do you have about alternative approaches?\"*  \n",
      "   - **Find common ground**: Are there shared values (e.g., dignity, well-being) that can bridge the gap?\n",
      "\n",
      "### **4. Evaluate Potential Solutions**\n",
      "   - **Is there a compromise?** Can you adapt the culturally accepted solution in a way that aligns better with your ethics without causing harm?\n",
      "   - **Is dissent or non-participation an option?** Can you respectfully abstain or advocate for change without imposing your views?\n",
      "   - **Assess consequences**: What are the risks of challenging the norm (e.g., backlash, alienation) vs. upholding it (e.g., perpetuating harm)?\n",
      "\n",
      "### **5. Make a Decision & Justify It**\n",
      "   - **Choose the least harmful option**: If no perfect solution exists, prioritize minimizing harm while staying true to core ethical principles.\n",
      "   - **Be transparent**: Explain your reasoning to stakeholders, acknowledging the complexity and their perspectives.\n",
      "   - **Prepare for accountability**: Accept that some may disagree, but ensure your choice is defensible on ethical grounds.\n",
      "\n",
      "### **6. Reflect & Learn**\n",
      "   - **Afterward, evaluate the outcome**: Did the decision respect diverse viewpoints while upholding integrity? What would you do differently next time?\n",
      "   - **Adjust your approach**: Use this experience to refine how you handle future cross-cultural ethical conflicts.\n",
      "\n",
      "### **Example Scenario**\n",
      "Imagine a business practice in a certain culture involves gender-based roles that conflict with your belief in equality. Possible steps:\n",
      "   - **Engage local leaders** to understand the historical and social reasons behind the practice.\n",
      "   - **Propose incremental changes** (e.g., offering equal opportunities while respecting cultural sensitivities).\n",
      "   - **If change is impossible**, decide whether to tolerate the practice (if harm is minimal) or withdraw involvement (if it violates non-negotiable ethics).\n",
      "\n",
      "### **Key Takeaway**\n",
      "Balancing cultural respect with personal ethics requires humility, dialogue, and a willingness to navigate gray areas. The goal is not to impose your views but to find a solution that honors human dignity while acknowledging diverse perspectives.\n"
     ]
    }
   ],
   "source": [
    "# It's nice to know how to use \"zip\"\n",
    "for competitor, answer in zip(competitors, compResponses):\n",
    "    print(f\"Competitor: {competitor}\\n\\n{answer}\")\n"
   ]
  },
  {
   "cell_type": "code",
   "execution_count": null,
   "metadata": {},
   "outputs": [],
   "source": [
    "# Let's bring this together - note the use of \"enumerate\"\n",
    "\n",
    "together = \"\"\n",
    "for index, answer in enumerate(compResponses):\n",
    "    together += f\"# Response from competitor {index+1}\\n\\n\"\n",
    "    together += answer + \"\\n\\n\"\n",
    "\n",
    "display(Markdown(together))"
   ]
  },
  {
   "cell_type": "code",
   "execution_count": null,
   "metadata": {},
   "outputs": [],
   "source": [
    "print(together)"
   ]
  },
  {
   "cell_type": "code",
   "execution_count": 26,
   "metadata": {},
   "outputs": [],
   "source": [
    "judge = f\"\"\"You are judging a competition between {len(competitors)} competitors.\n",
    "Each model has been given this question:\n",
    "\n",
    "{assistant_response}\n",
    "\n",
    "Your job is to evaluate each response for clarity and strength of argument, and rank them in order of best to worst.\n",
    "Respond with JSON, and only JSON, with the following format:\n",
    "{{\"results\": [\"best competitor number\", \"second best competitor number\", \"third best competitor number\", ...]}}\n",
    "\n",
    "Here are the responses from each competitor:\n",
    "\n",
    "{together}\n",
    "\n",
    "Now respond with the JSON with the ranked order of the competitors, nothing else. Do not include markdown formatting or code blocks.\"\"\"\n"
   ]
  },
  {
   "cell_type": "code",
   "execution_count": 27,
   "metadata": {},
   "outputs": [
    {
     "name": "stdout",
     "output_type": "stream",
     "text": [
      "You are judging a competition between 3 competitors.\n",
      "Each model has been given this question:\n",
      "\n",
      "How do the ethical implications of using artificial intelligence in decision-making processes differ between the healthcare and criminal justice systems, considering potential biases and the importance of human oversight?\n",
      "\n",
      "Your job is to evaluate each response for clarity and strength of argument, and rank them in order of best to worst.\n",
      "Respond with JSON, and only JSON, with the following format:\n",
      "{\"results\": [\"best competitor number\", \"second best competitor number\", \"third best competitor number\", ...]}\n",
      "\n",
      "Here are the responses from each competitor:\n",
      "\n",
      "# Response from competitor 1\n",
      "\n",
      "Resolving a moral dilemma where the culturally accepted solution conflicts with personal ethical beliefs is a complex process. Here’s a structured approach to navigate such a situation, especially when it involves diverse stakeholders:\n",
      "\n",
      "1. **Self-reflection and Clarification**: Start by thoroughly reflecting on your own ethical beliefs. Identify the core principles that guide your ethics and how they conflict with the culturally accepted solution. This step helps to ensure that your perspective is clear and well-informed.\n",
      "\n",
      "2. **Research and Understanding**: Investigate the cultural context behind the accepted solution. Understand the values, beliefs, and traditions that underpin it. This helps to broaden your perspective and may reveal nuances that you were previously unaware of.\n",
      "\n",
      "3. **Stakeholder Mapping**: Identify all stakeholders who are impacted by the decision. Consider their values, interests, and potential reactions to both the culturally accepted solution and your ethical stance. Understanding the diversity of perspectives will be important in finding a resolution that considers everyone's needs.\n",
      "\n",
      "4. **Engagement and Dialogue**: Initiate conversations with stakeholders to gather their views and concerns. This could involve facilitating discussions where different perspectives can be shared openly. Actively listen to understand their positions, which will help in finding common ground.\n",
      "\n",
      "5. **Explore Alternatives**: Brainstorm possible solutions that respect cultural norms while also aligning with your ethical beliefs. Consider creative options that may not be immediately apparent but can satisfy both ethical standards and cultural considerations. \n",
      "\n",
      "6. **Ethical Frameworks**: Apply ethical frameworks (such as utilitarianism, deontology, or virtue ethics) to evaluate the potential outcomes of each option. Weigh the consequences for all stakeholders to make a more informed decision.\n",
      "\n",
      "7. **Pilot Testing**: If feasible, consider implementing a small-scale trial of the alternative solutions to gauge their effectiveness and acceptance among stakeholders. This can provide valuable insights and help build trust.\n",
      "\n",
      "8. **Decision Making**: After thorough consideration, make a decision that aligns best with your ethical principles while attempting to respect the cultural context. Be transparent about your reasoning to help others understand your stance.\n",
      "\n",
      "9. **Communication**: Clearly communicate your decision and the rationale behind it to all stakeholders. Emphasize the thought and care taken in your approach, and be open to feedback and further discussion.\n",
      "\n",
      "10. **Reflection and Adaptation**: After the decision has been implemented, reflect on its impact and be willing to adapt based on feedback and outcomes. This ongoing process helps build trust and continually improves your approach to ethical dilemmas.\n",
      "\n",
      "By approaching the moral dilemma thoughtfully and inclusively, you can navigate the complexities of cultural differences and ethical beliefs while striving to achieve a resolution that respects and acknowledges the diverse perspectives of all affected stakeholders.\n",
      "\n",
      "# Response from competitor 2\n",
      "\n",
      "Resolving a moral dilemma where your personal ethical beliefs clash with culturally accepted solutions, especially when diverse stakeholders are involved, is one of the most complex challenges. It requires a multifaceted, empathetic, and principles-based approach.\n",
      "\n",
      "Here's how I would approach it:\n",
      "\n",
      "---\n",
      "\n",
      "**Phase 1: Deep Understanding & Self-Reflection**\n",
      "\n",
      "1.  **Clearly Define the Dilemma:**\n",
      "    *   **Identify the culturally accepted solution:** What exactly is it? What are its underlying assumptions, values, and historical context? Why is it considered \"right\" or necessary within that culture? (e.g., preserving tradition, maintaining social harmony, religious obligation, economic stability).\n",
      "    *   **Identify my own ethical belief:** What specific principle am I upholding? (e.g., individual autonomy, universal human rights, justice, fairness, non-maleficence, utility, equity). What are its philosophical roots?\n",
      "    *   **Pinpoint the exact conflict:** Where do these two positions diverge? Is it a difference in priority, method, or fundamental values?\n",
      "\n",
      "2.  **Understand the Cultural Context (Beyond Surface Level):**\n",
      "    *   **Empathy, not judgment:** Avoid immediately labeling the cultural solution as \"wrong.\" Seek to understand its rationale from *within* that cultural framework. What purpose does it serve for the community? What are the potential negative consequences *within that culture* if the accepted solution is not followed?\n",
      "    *   **Seek informed perspectives:** Consult cultural experts, community leaders, or trusted individuals who can explain the nuances of the cultural practice or belief. Listen deeply.\n",
      "\n",
      "3.  **Examine My Own Beliefs Critically:**\n",
      "    *   **Are they truly universal, or culturally informed themselves?** Am I projecting my own cultural biases?\n",
      "    *   **What is my level of conviction?** Is this a negotiable principle, or a fundamental, non-negotiable ethical red line for me?\n",
      "    *   **What are the potential unintended consequences** of imposing my ethical belief on a different cultural context?\n",
      "\n",
      "4.  **Identify and Map Stakeholders:**\n",
      "    *   **Who is directly impacted?** (Individuals, families, specific groups)\n",
      "    *   **Who is indirectly impacted?** (Community, broader society, future generations)\n",
      "    *   **What are their diverse perspectives, needs, and vulnerabilities?** (Considering age, gender, socio-economic status, power dynamics, minority groups within the culture). It's crucial to recognize that \"the culture\" is not monolithic; there may be dissenting voices or varying interpretations *within* it.\n",
      "\n",
      "5.  **Assess Potential Impacts (Short-term & Long-term):**\n",
      "    *   **Consequences of the cultural solution:** What harm or benefit does it create, both internally and externally?\n",
      "    *   **Consequences of my ethical solution:** What harm or benefit does it create, considering its impact on cultural integrity, social cohesion, and the specific stakeholders?\n",
      "\n",
      "---\n",
      "\n",
      "**Phase 2: Engagement, Dialogue & Exploration of Alternatives**\n",
      "\n",
      "1.  **Establish Open and Respectful Communication Channels:**\n",
      "    *   Create a safe space for dialogue where all voices can be heard without fear of judgment. This might involve formal meetings, informal conversations, or bringing in a neutral facilitator.\n",
      "    *   Emphasize shared goals or values that might exist despite the conflict (e.g., everyone wants the well-being of children, peace, prosperity, dignity, even if they disagree on the method).\n",
      "\n",
      "2.  **Active Listening and Bridge Building:**\n",
      "    *   Listen to understand, not just to respond. Validate feelings and perspectives, even if you disagree with the underlying belief or practice.\n",
      "    *   Frame the issue not as \"my way vs. your way,\" but as \"how can we achieve the best outcome for everyone involved, given our differing perspectives?\"\n",
      "\n",
      "3.  **Seek Common Ground and Shared Values:**\n",
      "    *   Can universal ethical principles (e.g., harm reduction, human dignity, fairness) be identified that resonate with *both* positions, even if the application differs?\n",
      "    *   Are there existing cultural narratives or traditions that support a more inclusive or ethically aligned approach, even if they are not the dominant interpretation?\n",
      "\n",
      "4.  **Brainstorm Creative Solutions & \"Third Ways\":**\n",
      "    *   Can a compromise be found that respects cultural values while still upholding fundamental ethical principles?\n",
      "    *   Can a phased approach be implemented?\n",
      "    *   Are there adaptive solutions that could be developed collaboratively? (e.g., not abandoning a tradition entirely, but modifying its harmful elements; providing alternatives that address the underlying need the cultural solution was meant to meet).\n",
      "    *   Is there an opportunity for mutual learning and evolving perspectives?\n",
      "\n",
      "---\n",
      "\n",
      "**Phase 3: Decision-Making & Implementation**\n",
      "\n",
      "1.  **Prioritize Core Ethical Principles:**\n",
      "    *   If no complete compromise is possible, I would lean towards solutions that:\n",
      "        *   **Minimize harm, especially to the most vulnerable.** This is often the paramount principle.\n",
      "        *   **Uphold fundamental human rights and dignity.**\n",
      "        *   **Promote justice and equity.**\n",
      "    *   This doesn't mean disregarding cultural context, but rather making a difficult choice when core values are in direct opposition to practices that cause significant suffering or injustice.\n",
      "\n",
      "2.  **Transparency and Justification:**\n",
      "    *   Clearly articulate the decision-making process, acknowledging the complexity and the conflicting values.\n",
      "    *   Explain the rationale for the chosen solution, even if it's unpopular with some stakeholders. Be prepared to defend it based on ethical principles and the well-being of all.\n",
      "\n",
      "3.  **Mitigate Negative Impacts:**\n",
      "    *   For those whose cultural practices are challenged, offer support, alternatives, or pathways for adapting.\n",
      "    *   Address any potential backlash or social disruption with sensitivity and proactive measures.\n",
      "    *   Ensure the decision is implemented in a way that is respectful and avoids further marginalization or alienation.\n",
      "\n",
      "4.  **Be Prepared for Personal and Professional Consequences:**\n",
      "    *   Upholding personal ethics against cultural norms can be isolating, professionally risky, or lead to social ostracization. I would need to be prepared for these potential repercussions.\n",
      "\n",
      "---\n",
      "\n",
      "**Phase 4: Post-Decision Reflection & Learning**\n",
      "\n",
      "1.  **Evaluate the Outcome:**\n",
      "    *   Did the chosen solution achieve its intended ethical goals?\n",
      "    *   What were the unforeseen consequences, both positive and negative?\n",
      "    *   How did the diverse stakeholders respond in the long term?\n",
      "\n",
      "2.  **Continuous Learning and Adaptation:**\n",
      "    *   Every such dilemma is a learning experience. What could have been done better?\n",
      "    *   Maintain an ongoing dialogue with the community and stakeholders, showing a commitment to long-term well-being and adaptation.\n",
      "    *   Recognize that cultural change is slow and often incremental.\n",
      "\n",
      "---\n",
      "\n",
      "In essence, my approach would be characterized by **humility, empathy, rigorous ethical analysis, inclusive dialogue, and a commitment to minimizing harm while upholding fundamental principles of justice and human dignity.** It's about finding the most ethically defensible path forward, even when that path is fraught with complexity and doesn't fully satisfy everyone.\n",
      "\n",
      "# Response from competitor 3\n",
      "\n",
      "Resolving a moral dilemma where cultural norms conflict with your personal ethical beliefs—especially when diverse stakeholders are involved—requires a thoughtful, balanced approach. Here’s a structured way to navigate such a situation:\n",
      "\n",
      "### **1. Clarify the Ethical Conflict**\n",
      "   - **Identify the core values in tension**: What specific cultural norm clashes with your ethical belief? (e.g., hierarchy vs. equality, tradition vs. individual rights.)\n",
      "   - **Understand the stakeholders**: Who is affected, and how do their cultural backgrounds shape their perspectives?\n",
      "\n",
      "### **2. Engage in Ethical Reflection**\n",
      "   - **Examine your own biases**: Are your ethical beliefs influenced by your upbringing, education, or unconscious assumptions? Could there be validity in the cultural perspective?\n",
      "   - **Apply ethical frameworks**: Consider multiple lenses:\n",
      "     - **Utilitarianism**: Which option produces the greatest good for the greatest number?\n",
      "     - **Deontological ethics**: Are there universal principles (e.g., human rights) that override cultural norms?\n",
      "     - **Virtue ethics**: What would a wise, compassionate, and fair person do?\n",
      "     - **Relativism vs. Universalism**: Is the cultural practice contextually valid, or does it violate fundamental ethical standards?\n",
      "\n",
      "### **3. Seek Dialogue & Cultural Understanding**\n",
      "   - **Consult with stakeholders**: Engage in respectful conversations to understand their values and reasoning. Ask questions like:\n",
      "     - *\"How does this practice benefit your community?\"*  \n",
      "     - *\"What concerns do you have about alternative approaches?\"*  \n",
      "   - **Find common ground**: Are there shared values (e.g., dignity, well-being) that can bridge the gap?\n",
      "\n",
      "### **4. Evaluate Potential Solutions**\n",
      "   - **Is there a compromise?** Can you adapt the culturally accepted solution in a way that aligns better with your ethics without causing harm?\n",
      "   - **Is dissent or non-participation an option?** Can you respectfully abstain or advocate for change without imposing your views?\n",
      "   - **Assess consequences**: What are the risks of challenging the norm (e.g., backlash, alienation) vs. upholding it (e.g., perpetuating harm)?\n",
      "\n",
      "### **5. Make a Decision & Justify It**\n",
      "   - **Choose the least harmful option**: If no perfect solution exists, prioritize minimizing harm while staying true to core ethical principles.\n",
      "   - **Be transparent**: Explain your reasoning to stakeholders, acknowledging the complexity and their perspectives.\n",
      "   - **Prepare for accountability**: Accept that some may disagree, but ensure your choice is defensible on ethical grounds.\n",
      "\n",
      "### **6. Reflect & Learn**\n",
      "   - **Afterward, evaluate the outcome**: Did the decision respect diverse viewpoints while upholding integrity? What would you do differently next time?\n",
      "   - **Adjust your approach**: Use this experience to refine how you handle future cross-cultural ethical conflicts.\n",
      "\n",
      "### **Example Scenario**\n",
      "Imagine a business practice in a certain culture involves gender-based roles that conflict with your belief in equality. Possible steps:\n",
      "   - **Engage local leaders** to understand the historical and social reasons behind the practice.\n",
      "   - **Propose incremental changes** (e.g., offering equal opportunities while respecting cultural sensitivities).\n",
      "   - **If change is impossible**, decide whether to tolerate the practice (if harm is minimal) or withdraw involvement (if it violates non-negotiable ethics).\n",
      "\n",
      "### **Key Takeaway**\n",
      "Balancing cultural respect with personal ethics requires humility, dialogue, and a willingness to navigate gray areas. The goal is not to impose your views but to find a solution that honors human dignity while acknowledging diverse perspectives.\n",
      "\n",
      "\n",
      "\n",
      "Now respond with the JSON with the ranked order of the competitors, nothing else. Do not include markdown formatting or code blocks.\n"
     ]
    }
   ],
   "source": [
    "print(judge)"
   ]
  },
  {
   "cell_type": "code",
   "execution_count": 28,
   "metadata": {},
   "outputs": [],
   "source": [
    "judge_messages = [{\"role\": \"user\", \"content\": judge}]"
   ]
  },
  {
   "cell_type": "code",
   "execution_count": 33,
   "metadata": {},
   "outputs": [
    {
     "name": "stdout",
     "output_type": "stream",
     "text": [
      "{\"results\": [\"3\", \"2\", \"1\"]}\n"
     ]
    }
   ],
   "source": [
    "# Judgement time!\n",
    "\n",
    "openai = OpenAI()\n",
    "response = openai.chat.completions.create(\n",
    "    model=\"o4-mini\",\n",
    "    messages=judge_messages,\n",
    ")\n",
    "results = response.choices[0].message.content\n",
    "print(results)\n"
   ]
  },
  {
   "cell_type": "code",
   "execution_count": 35,
   "metadata": {},
   "outputs": [
    {
     "name": "stdout",
     "output_type": "stream",
     "text": [
      "{\"results\": [\"2\", \"3\", \"1\"]}\n"
     ]
    }
   ],
   "source": [
    "response = deepseek.chat.completions.create(\n",
    "    model='deepseek-reasoner',\n",
    "    messages=judge_messages\n",
    ")\n",
    "results = response.choices[0].message.content\n",
    "print(results)"
   ]
  },
  {
   "cell_type": "code",
   "execution_count": 36,
   "metadata": {},
   "outputs": [
    {
     "name": "stdout",
     "output_type": "stream",
     "text": [
      "Rank 1: gemini-2.5-flash\n",
      "Rank 2: deepseek-chat\n",
      "Rank 3: gpt-4o-mini\n"
     ]
    }
   ],
   "source": [
    "# OK let's turn this into results!\n",
    "\n",
    "results_dict = json.loads(results)\n",
    "ranks = results_dict[\"results\"]\n",
    "for index, result in enumerate(ranks):\n",
    "    competitor = competitors[int(result)-1]\n",
    "    print(f\"Rank {index+1}: {competitor}\")"
   ]
  },
  {
   "cell_type": "markdown",
   "metadata": {},
   "source": [
    "<table style=\"margin: 0; text-align: left; width:100%\">\n",
    "    <tr>\n",
    "        <td style=\"width: 150px; height: 150px; vertical-align: middle;\">\n",
    "            <img src=\"../assets/exercise.png\" width=\"150\" height=\"150\" style=\"display: block;\" />\n",
    "        </td>\n",
    "        <td>\n",
    "            <h2 style=\"color:#ff7800;\">Exercise</h2>\n",
    "            <span style=\"color:#ff7800;\">Which pattern(s) did this use? Try updating this to add another Agentic design pattern.\n",
    "            </span>\n",
    "        </td>\n",
    "    </tr>\n",
    "</table>"
   ]
  },
  {
   "cell_type": "markdown",
   "metadata": {},
   "source": [
    "<table style=\"margin: 0; text-align: left; width:100%\">\n",
    "    <tr>\n",
    "        <td style=\"width: 150px; height: 150px; vertical-align: middle;\">\n",
    "            <img src=\"../assets/business.png\" width=\"150\" height=\"150\" style=\"display: block;\" />\n",
    "        </td>\n",
    "        <td>\n",
    "            <h2 style=\"color:#00bfff;\">Commercial implications</h2>\n",
    "            <span style=\"color:#00bfff;\">These kinds of patterns - to send a task to multiple models, and evaluate results,\n",
    "            are common where you need to improve the quality of your LLM response. This approach can be universally applied\n",
    "            to business projects where accuracy is critical.\n",
    "            </span>\n",
    "        </td>\n",
    "    </tr>\n",
    "</table>"
   ]
  }
 ],
 "metadata": {
  "kernelspec": {
   "display_name": ".venv",
   "language": "python",
   "name": "python3"
  },
  "language_info": {
   "codemirror_mode": {
    "name": "ipython",
    "version": 3
   },
   "file_extension": ".py",
   "mimetype": "text/x-python",
   "name": "python",
   "nbconvert_exporter": "python",
   "pygments_lexer": "ipython3",
   "version": "3.12.11"
  }
 },
 "nbformat": 4,
 "nbformat_minor": 2
}
