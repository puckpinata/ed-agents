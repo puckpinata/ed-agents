{
 "cells": [
  {
   "cell_type": "markdown",
   "id": "a22fe47a",
   "metadata": {},
   "source": [
    "Here's the step-by-step process to pull changes from the original repository and push everything to your fork:\n",
    "\n",
    "If You Have Local Changes to Commit First:\n",
    "\n",
    "# Add and commit your local changes\n",
    "git add .\n",
    "git commit -m \"Your local changes description\"\n",
    "\n",
    "# Then fetch, merge, and push\n",
    "git fetch upstream\n",
    "git checkout main\n",
    "git merge upstream/main\n",
    "git push origin main"
   ]
  },
  {
   "cell_type": "markdown",
   "id": "9fdeb6e8",
   "metadata": {},
   "source": [
    "If You Get Conflicts:\n",
    "\n",
    "# If there are merge conflicts, resolve them and then:\n",
    "git add .\n",
    "git commit -m \"Resolve merge conflicts\"\n",
    "git push origin main"
   ]
  },
  {
   "cell_type": "markdown",
   "id": "e40c9b5f",
   "metadata": {},
   "source": [
    "git status\n",
    "\n",
    "This shows:\n",
    "Staged changes (ready to commit)\n",
    "Unstaged changes (modified but not staged)\n",
    "Untracked files (new files not yet added)\n",
    "Current branch and tracking info\n",
    "\n",
    "\n",
    "# See unstaged changes (what you've modified but not staged)\n",
    "git diff\n",
    "\n",
    "# See staged changes (what's ready to commit)\n",
    "git diff --staged"
   ]
  },
  {
   "cell_type": "markdown",
   "id": "401bbbd0",
   "metadata": {},
   "source": [
    "Pro Tips:\n",
    "Always commit your local changes first before pulling upstream\n",
    "Use feature branches for your own changes to avoid conflicts\n",
    "Check status: git status to see what's happening\n",
    "Check remotes: git remote -v to confirm your upstream is set up"
   ]
  }
 ],
 "metadata": {
  "language_info": {
   "name": "python"
  }
 },
 "nbformat": 4,
 "nbformat_minor": 5
}
